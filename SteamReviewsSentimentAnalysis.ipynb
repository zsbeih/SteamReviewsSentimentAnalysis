{
 "cells": [
  {
   "cell_type": "markdown",
   "metadata": {
    "id": "NqFhbT7Q90fY"
   },
   "source": [
    "# Library Declarations"
   ]
  },
  {
   "cell_type": "code",
   "execution_count": 1,
   "metadata": {
    "id": "tDxjCSry986P"
   },
   "outputs": [
    {
     "name": "stderr",
     "output_type": "stream",
     "text": [
      "[nltk_data] Downloading package wordnet to /Users/zain/nltk_data...\n",
      "[nltk_data]   Package wordnet is already up-to-date!\n",
      "[nltk_data] Downloading package vader_lexicon to\n",
      "[nltk_data]     /Users/zain/nltk_data...\n",
      "[nltk_data]   Package vader_lexicon is already up-to-date!\n",
      "[nltk_data] Downloading package stopwords to /Users/zain/nltk_data...\n",
      "[nltk_data]   Package stopwords is already up-to-date!\n"
     ]
    }
   ],
   "source": [
    "import pandas as pd\n",
    "import nltk\n",
    "from nltk.corpus import stopwords\n",
    "from nltk.stem import WordNetLemmatizer\n",
    "from nltk.sentiment.vader import SentimentIntensityAnalyzer\n",
    "nltk.download('wordnet')\n",
    "nltk.download('vader_lexicon')  \n",
    "nltk.download('stopwords')\n",
    "from sklearn.model_selection import train_test_split\n",
    "from sklearn.feature_extraction.text import TfidfVectorizer\n",
    "from sklearn.ensemble import RandomForestClassifier\n",
    "from sklearn.metrics import accuracy_score, precision_score, recall_score, f1_score\n",
    "import matplotlib.pyplot as plt\n",
    "from nltk.classify import NaiveBayesClassifier\n",
    "import nltk.classify.util\n",
    "\n"
   ]
  },
  {
   "cell_type": "markdown",
   "metadata": {
    "id": "WRS5whRd3hdi"
   },
   "source": [
    "# Data Pre-processing"
   ]
  },
  {
   "cell_type": "markdown",
   "metadata": {},
   "source": [
    "Default Preprocessing"
   ]
  },
  {
   "cell_type": "code",
   "execution_count": 2,
   "metadata": {},
   "outputs": [],
   "source": [
    "\n",
    "df = pd.read_csv('projectData.csv')\n",
    "df = df[['app_id', 'app_name', 'review_text', 'review_score']]\n",
    "\n",
    "def preprocess_text(review_text): \n",
    "    review_text = str(review_text).lower()\n",
    "\n",
    "    stop_words = set(stopwords.words('english'))\n",
    "    \n",
    "    words = review_text.split()\n",
    "    \n",
    "    stripped_words = []\n",
    "    for word in words:\n",
    "        stripped_word = word.strip('.,!?()[]{}:;\"\\'')\n",
    "        stripped_words.append(stripped_word)\n",
    "\n",
    "    lemmatizer = WordNetLemmatizer()\n",
    "    lemmatized_words = []\n",
    "    for word in stripped_words:\n",
    "        lemmatized_word = lemmatizer.lemmatize(word)\n",
    "        lemmatized_words.append(lemmatized_word)\n",
    "        \n",
    "    nonstop_words = []\n",
    "    for word in stripped_words:\n",
    "        if word not in stop_words:\n",
    "            nonstop_words.append(word)\n",
    "\n",
    "            \n",
    "    clean_text = ' '.join(nonstop_words)\n",
    "    \n",
    "    return clean_text\n"
   ]
  },
  {
   "cell_type": "markdown",
   "metadata": {},
   "source": [
    "Remove Links"
   ]
  },
  {
   "cell_type": "code",
   "execution_count": 3,
   "metadata": {},
   "outputs": [],
   "source": [
    "def remove_links(review_text=str):\n",
    "    review_text = str(review_text).lower()\n",
    "    words = review_text.split()\n",
    "    remove_urls_words = []\n",
    "    for word in words:\n",
    "        if not (word.startswith('http') or word.startswith('www')):\n",
    "            remove_urls_words.append(word)\n",
    "\n",
    "    clean_text = ' '.join(remove_urls_words)\n",
    "    return clean_text"
   ]
  },
  {
   "cell_type": "markdown",
   "metadata": {},
   "source": [
    "Remove Steam Specific Stop Words"
   ]
  },
  {
   "cell_type": "code",
   "execution_count": 4,
   "metadata": {},
   "outputs": [],
   "source": [
    "steam_stop_words = { \n",
    "        'game', 'games', 'play', 'played', 'playing', 'steam', \n",
    "        'review', 'reviews', 'recommend', 'recommended', 'hours',\n",
    "        'time', 'gaming', 'player', 'players'\n",
    "    } \n",
    "def remove_steam_stop_words(review_text):\n",
    "    review_text = str(review_text).lower()\n",
    "\n",
    "    words = review_text.split()\n",
    "    cleaned_text = []\n",
    "    for word in words:\n",
    "        if word not in steam_stop_words:\n",
    "           cleaned_text.append(word)\n",
    "    clean_text = ' '.join(cleaned_text)\n",
    "\n",
    "    return clean_text"
   ]
  },
  {
   "cell_type": "markdown",
   "metadata": {},
   "source": [
    "Remove Steam Emotes/Emojis"
   ]
  },
  {
   "cell_type": "code",
   "execution_count": 5,
   "metadata": {},
   "outputs": [],
   "source": [
    "SteamEmotes= {'♥','★','👍','❤️'}\n",
    "\n",
    "def remove_steam_emotes(review_text):\n",
    "    review_text = str(review_text).lower()\n",
    "\n",
    "    words = review_text.split()\n",
    "    cleaned_text = []\n",
    "    for word in words:\n",
    "        contains_emote = False\n",
    "        for emote in SteamEmotes:\n",
    "            if emote in word:\n",
    "                contains_emote = True\n",
    "                break\n",
    "        if not contains_emote:\n",
    "            cleaned_text.append(word)\n",
    "    clean_text = ' '.join(cleaned_text)\n",
    "    return clean_text"
   ]
  },
  {
   "cell_type": "markdown",
   "metadata": {},
   "source": [
    "Remove Troll Text"
   ]
  },
  {
   "cell_type": "code",
   "execution_count": 6,
   "metadata": {},
   "outputs": [],
   "source": [
    "troll_text = ['░', '█', '▀', '▌', '▐', '▄', '═', '╝', '╔', '╗', '║', '╦', '╠', '╩', '╣', '╚', '─']\n",
    "\n",
    "def removeTrollText(review_text):\n",
    "    review_text = str(review_text).lower()\n",
    "\n",
    "    cleanText = []\n",
    "    review_word = \"\"\n",
    "    \n",
    "    text = review_text.split()\n",
    "    for word in text:\n",
    "        for char in word:\n",
    "            if char not in troll_text:\n",
    "                review_word += char\n",
    "            \n",
    "        if(review_word != '') and (review_word != None):\n",
    "            cleanText.append(review_word)\n",
    "        review_word = \"\"\n",
    "    \n",
    "    output = \"\"\n",
    "    for word in cleanText:\n",
    "        output += (word + ' ')\n",
    "    \n",
    "    output.strip()\n",
    "    return output"
   ]
  },
  {
   "cell_type": "markdown",
   "metadata": {},
   "source": [
    "No Preprocessing Function"
   ]
  },
  {
   "cell_type": "code",
   "execution_count": 7,
   "metadata": {},
   "outputs": [],
   "source": [
    "def no_preprocessing(review_text):\n",
    "    review_text = str(review_text)\n",
    "\n",
    "    return review_text"
   ]
  },
  {
   "cell_type": "markdown",
   "metadata": {},
   "source": [
    "Apply Preprocessing Steps to Review Text"
   ]
  },
  {
   "cell_type": "code",
   "execution_count": 8,
   "metadata": {},
   "outputs": [],
   "source": [
    "#df['review_text'] = df['review_text'].apply(preprocess_text) # Default pre processing, such as lemmatization, remove basic stop words, etc\n",
    "\n",
    "#df['review_text'] = df['review_text'].apply(remove_steam_stop_words) # Remove any steam related stop words\n",
    "\n",
    "#df['review_text'] = df['review_text'].apply(remove_links) # Remove any links\n",
    "\n",
    "#df['review_text'] = df['review_text'].apply(remove_steam_emotes) # Remove certain emojis/symbols\n",
    "\n",
    "#df['review_text'] = df['review_text'].apply(removeTrollText) # Remove troll text\n",
    "\n",
    "df['review_text'] = df['review_text'].apply(no_preprocessing) # No preprocessing"
   ]
  },
  {
   "cell_type": "markdown",
   "metadata": {},
   "source": [
    "Custom Sentiment Analysis"
   ]
  },
  {
   "cell_type": "code",
   "execution_count": 9,
   "metadata": {},
   "outputs": [],
   "source": [
    "# Train Naive Bayes Classifier using the reviews to predict the review score\n",
    "vocabulary = set()\n",
    "processedReviews = []\n",
    "labelDict = []\n",
    "\n",
    "for i in df.index:\n",
    "\n",
    "    text =str(df['review_text'][i])\n",
    "    label = int(df['review_score'][i])\n",
    "    \n",
    "    words = text.split()\n",
    "    processedReviews.append(words)\n",
    "    labelDict.append(label)\n",
    "    vocabulary.update(words)\n",
    "\n",
    "feature_vectors = []\n",
    "for sentence in processedReviews:\n",
    "    features = {}\n",
    "    words_set = set(sentence)\n",
    "    for word in vocabulary:\n",
    "        features[f'contains({word})'] = (word in words_set)\n",
    "    feature_vectors.append(features)\n",
    "\n",
    "dataset = list(zip(feature_vectors, labelDict))\n",
    "\n",
    "train_set, test_set = train_test_split(dataset, test_size=0.2)\n",
    "\n",
    "classifier = NaiveBayesClassifier.train(train_set)\n",
    "    \n",
    "def custom_analysis(review_text):\n",
    "\n",
    "    features = {}\n",
    "    words = set(review_text.split())\n",
    "    for word in vocabulary:\n",
    "        features[f'contains({word})'] = (word in words)\n",
    "        \n",
    "    return classifier.classify(features)\n",
    "    \n",
    "\n"
   ]
  },
  {
   "cell_type": "markdown",
   "metadata": {},
   "source": [
    "Library Sentiment Analysis"
   ]
  },
  {
   "cell_type": "code",
   "execution_count": 10,
   "metadata": {},
   "outputs": [],
   "source": [
    "# VADER Sentiment Analyzer\n",
    "def libraryAnalysis(text):\n",
    "    analyzer = SentimentIntensityAnalyzer()\n",
    "    sentiment_scores = analyzer.polarity_scores(text)\n",
    "\n",
    "    sentiment = sentiment_scores['compound']\n",
    "\n",
    "    return sentiment\n",
    "\n"
   ]
  },
  {
   "cell_type": "markdown",
   "metadata": {
    "id": "uQnd1PA43s7m"
   },
   "source": [
    "# Filter Out Reviews Using Classifier and Get Sentiment Label"
   ]
  },
  {
   "cell_type": "code",
   "execution_count": 11,
   "metadata": {
    "colab": {
     "base_uri": "https://localhost:8080/"
    },
    "id": "Abb2muND3syg",
    "outputId": "c192e477-2089-492f-9915-06adb84e1d7f"
   },
   "outputs": [],
   "source": [
    "# Only include reviews that have a significant sentiment score(above +0.5 or below -0.5), and set pos scores to +1 and neg scores to -1\n",
    "df['sentiment'] = df['review_text'].apply(libraryAnalysis)\n",
    "\n",
    "df = df[(df['sentiment'] < -0.5) | (df['sentiment'] > 0.5)] \n",
    "\n",
    "df.loc[df['sentiment'] < 0, 'sentiment_label'] = -1\n",
    "df.loc[df['sentiment'] > 0, 'sentiment_label'] = 1\n"
   ]
  },
  {
   "cell_type": "markdown",
   "metadata": {
    "id": "VbDCzQSs3psI"
   },
   "source": [
    "# Train/Evaluate Classifier"
   ]
  },
  {
   "cell_type": "code",
   "execution_count": 17,
   "metadata": {
    "id": "1mmuDlkX4ER9"
   },
   "outputs": [
    {
     "name": "stdout",
     "output_type": "stream",
     "text": [
      "Accuracy: 0.93\n",
      "Precision: 0.93\n",
      "Recall: 1.00\n",
      "F1-Score: 0.96\n"
     ]
    },
    {
     "data": {
      "image/png": "[encoded data removed]",
      "text/plain": [
       "<Figure size 640x480 with 1 Axes>"
      ]
     },
     "metadata": {},
     "output_type": "display_data"
    }
   ],
   "source": [
    "# Create feature vector with preprocessed text, get the metrics, and plot them using a bar graph\n",
    "tfidf = TfidfVectorizer()\n",
    "text = tfidf.fit_transform(df['review_text'])\n",
    "\n",
    "X = text \n",
    "y = df['sentiment_label'] \n",
    "\n",
    "X_train, X_test, y_train, y_test = train_test_split(X, y, test_size=0.2)\n",
    "\n",
    "rf_classifier = RandomForestClassifier()\n",
    "rf_classifier.fit(X_train, y_train)\n",
    "\n",
    "y_pred = rf_classifier.predict(X_test)\n",
    "accuracy = accuracy_score(y_test, y_pred)\n",
    "precision = precision_score(y_test, y_pred)\n",
    "recall = recall_score(y_test, y_pred)\n",
    "f1 = f1_score(y_test, y_pred)\n",
    "\n",
    "print(f\"Accuracy: {accuracy:.2f}\")\n",
    "print(f\"Precision: {precision:.2f}\")\n",
    "print(f\"Recall: {recall:.2f}\")\n",
    "print(f\"F1-Score: {f1:.2f}\")\n",
    "\n",
    "metrics = ['Accuracy', 'Precision', 'Recall', 'F1-Score']\n",
    "values = [accuracy, precision, recall, f1]\n",
    "\n",
    "plt.figure()\n",
    "bars = plt.bar(metrics, values, color=['red', 'green', 'blue', 'orange'])\n",
    "\n",
    "for bar, value in zip(bars, values):\n",
    "    plt.text(bar.get_x() + bar.get_width() / 2, bar.get_height(),f'{value:.2f}', ha='center', va='bottom')\n",
    "\n",
    "plt.title(\"Random Forest Classifier Metrics\", fontsize=16)\n",
    "plt.ylabel(\"Score\", fontsize=14)\n",
    "plt.grid(axis='y', linestyle='--', alpha=0)\n",
    "plt.show()\n"
   ]
  },
  {
   "cell_type": "markdown",
   "metadata": {
    "id": "0FksHqWn4dJe"
   },
   "source": [
    "# Comparing Sentiment Rating to Steam Rating"
   ]
  },
  {
   "cell_type": "code",
   "execution_count": 15,
   "metadata": {
    "id": "0M1ymjmG4gja"
   },
   "outputs": [
    {
     "name": "stdout",
     "output_type": "stream",
     "text": [
      "Number of incorrectly scored reviews found: 138\n",
      "Number of correctly scored reviews found: 864\n",
      "Accuracy of predictions to original Steam review score: 86.23%\n"
     ]
    }
   ],
   "source": [
    "# Create a new dataframe containing the app name, the non preprocessed review text, the original review score, and the predicted sentiment\n",
    "original_text = pd.read_csv('projectData.csv') \n",
    "\n",
    "test_data = pd.DataFrame({'app_name': df.loc[y_test.index, 'app_name'],'review_text': original_data.loc[y_test.index, 'review_text'],  'review_score': df.loc[y_test.index, 'review_score'],'predicted_sentiment': y_pred.astype(int)})\n",
    "\n",
    "review_score_differences = test_data[test_data['review_score'] != test_data['predicted_sentiment']]\n",
    "\n",
    "same_review_scores = len(test_data[test_data['review_score'] == test_data['predicted_sentiment']])\n",
    "differences_count = len(review_score_differences)\n",
    "\n",
    "review_score_differences = review_score_differences[['app_name', 'review_score', 'predicted_sentiment', 'review_text']]\n",
    "\n",
    "output_file = 'library_custompreprocessing.csv'\n",
    "review_score_differences.to_csv(output_file, index=False)\n",
    "\n",
    "print(f\"Number of incorrectly scored reviews found: {differences_count}\")\n",
    "print(f\"Number of correctly scored reviews found: {same_review_scores}\")\n",
    "print(f\"Accuracy of predictions to original Steam review score: {same_review_scores / len(test_data) * 100:.2f}%\")\n"
   ]
  }
 ],
 "metadata": {
  "colab": {
   "provenance": []
  },
  "kernelspec": {
   "display_name": "Python 3",
   "name": "python3"
  },
  "language_info": {
   "codemirror_mode": {
    "name": "ipython",
    "version": 3
   },
   "file_extension": ".py",
   "mimetype": "text/x-python",
   "name": "python",
   "nbconvert_exporter": "python",
   "pygments_lexer": "ipython3",
   "version": "3.11.5"
  }
 },
 "nbformat": 4,
 "nbformat_minor": 0
}
